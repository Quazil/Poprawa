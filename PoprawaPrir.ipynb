{
  "nbformat": 4,
  "nbformat_minor": 0,
  "metadata": {
    "colab": {
      "provenance": []
    },
    "kernelspec": {
      "name": "python3",
      "display_name": "Python 3"
    },
    "language_info": {
      "name": "python"
    }
  },
  "cells": [
    {
      "cell_type": "code",
      "execution_count": 12,
      "metadata": {
        "colab": {
          "base_uri": "https://localhost:8080/"
        },
        "id": "qGgTgk0Xz4Z1",
        "outputId": "42678937-181d-48b5-ecf6-36e80d2de3ae"
      },
      "outputs": [
        {
          "output_type": "stream",
          "name": "stdout",
          "text": [
            "Globalna suma: 55\n",
            "Globalna średnia: 0.550000\n"
          ]
        }
      ],
      "source": [
        "%%sh\n",
        "cat > pi-mpi.c << EOF\n",
        "#include <mpi.h>\n",
        "#include <stdio.h>\n",
        "#include <stdlib.h>\n",
        "\n",
        "int main(int argc, char** argv) {\n",
        "  int rank, size;\n",
        "\n",
        "  MPI_Init(NULL, NULL);\n",
        "  MPI_Comm_rank(MPI_COMM_WORLD, &rank);\n",
        "  MPI_Comm_size(MPI_COMM_WORLD, &size);\n",
        "\n",
        "  int start = rank * 10 + 1;\n",
        "  int end = start + 9;\n",
        "  int sum = 0;\n",
        "  for (int i = start; i <= end; i++) {\n",
        "    sum += i;\n",
        "  }\n",
        "\n",
        "  if (rank == 0) {\n",
        "    int globalnasuma = sum;\n",
        "    for (int i = 0; i < size - 1; i++) {\n",
        "      MPI_Recv(&sum, 1, MPI_INT, i, 0, MPI_COMM_WORLD, MPI_STATUS_IGNORE);\n",
        "      globalnasuma += sum;\n",
        "    }\n",
        "    double srednia = (double)globalnasuma / 100.0;\n",
        "    printf(\"Globalna suma: %d\\n\", globalnasuma);\n",
        "    printf(\"Globalna średnia: %f\\n\", srednia);\n",
        "  }\n",
        "  \n",
        "  if (rank != 0) {\n",
        "    MPI_Send(&sum, 1, MPI_INT, size - 1, 0, MPI_COMM_WORLD);\n",
        "  } \n",
        "\n",
        "  MPI_Finalize();\n",
        "  return 0;\n",
        "}\n",
        "EOF\n",
        "mpicc pi-mpi.c && mpirun -n 1 --allow-run-as-root a.out"
      ]
    }
  ]
}